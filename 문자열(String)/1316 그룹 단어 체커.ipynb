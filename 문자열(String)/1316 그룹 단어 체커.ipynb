{
 "cells": [
  {
   "cell_type": "markdown",
   "metadata": {},
   "source": [
    "### >> 문제: Baekjoon 1316 [그룹 단어 체커](https://www.acmicpc.net/problem/1316)\n",
    "\n",
    "그룹 단어란 단어에 존재하는 모든 문자에 대해서, 각 문자가 연속해서 나타나는 경우만을 말한다.  \n",
    "예를 들면, ccazzzzbb는 c, a, z, b가 모두 연속해서 나타나고,  \n",
    "kin도 k, i, n이 연속해서 나타나기 때문에 그룹 단어이지만,  \n",
    "aabbbccb는 b가 떨어져서 나타나기 때문에 그룹 단어가 아니다. \n",
    "\n",
    "단어 N개를 입력으로 받아 그룹 단어의 개수를 출력하는 프로그램을 작성하시오.  \n",
    "\n",
    "[입력]  \n",
    "첫째 줄에 단어의 개수 N이 들어온다. N은 100보다 작거나 같은 자연수이다.  \n",
    "둘째 줄부터 N개의 줄에 단어가 들어온다.  \n",
    "단어는 알파벳 소문자로만 되어있고 중복되지 않으며, 길이는 최대 100이다.  \n",
    "\n",
    "[출력]  \n",
    "첫째 줄에 그룹 단어의 개수를 출력한다.\n",
    "\n",
    "*출처: Baekjoon, https://www.acmicpc.net/*"
   ]
  },
  {
   "cell_type": "markdown",
   "metadata": {},
   "source": [
    "### >> 풀이"
   ]
  },
  {
   "cell_type": "code",
   "execution_count": 4,
   "metadata": {},
   "outputs": [
    {
     "name": "stdout",
     "output_type": "stream",
     "text": [
      "2\n",
      "hello\n",
      "world\n",
      "2\n",
      "================\n",
      "True\n",
      "True\n"
     ]
    }
   ],
   "source": [
    "# 입력\n",
    "n = int(input())\n",
    "words = []\n",
    "for i in range(n):\n",
    "    words.append(input())\n",
    "\n",
    "# 그룹 단어 체크 함수\n",
    "def check(n, words):\n",
    "    count = 0\n",
    "    for w in words:\n",
    "        temp = [w[0]]\n",
    "        for i in range(1,len(w)):\n",
    "            if w[i] != w[i-1]:\n",
    "                if w[i] not in temp:\n",
    "                    temp.append(w[i])\n",
    "                else:\n",
    "                    break\n",
    "        else:\n",
    "            count += 1\n",
    "\n",
    "    return count\n",
    "\n",
    "print(check(n, words))\n",
    "print(\"================\")\n",
    "print(check(3,['happy','new','year']) == 3)\n",
    "print(check(4,['aba','abab','abcabc','a']) == 1)"
   ]
  }
 ],
 "metadata": {
  "kernelspec": {
   "display_name": "Python 3",
   "language": "python",
   "name": "python3"
  },
  "language_info": {
   "codemirror_mode": {
    "name": "ipython",
    "version": 3
   },
   "file_extension": ".py",
   "mimetype": "text/x-python",
   "name": "python",
   "nbconvert_exporter": "python",
   "pygments_lexer": "ipython3",
   "version": "3.7.1"
  }
 },
 "nbformat": 4,
 "nbformat_minor": 2
}
