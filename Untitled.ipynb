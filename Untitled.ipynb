{
 "cells": [
  {
   "cell_type": "markdown",
   "metadata": {},
   "source": [
    "### >> 문제: Baekjoon 1463 [1로 만들기](https://www.acmicpc.net/problem/1463)\n",
    "\n",
    "정수 X에 사용할 수 있는 연산은 다음과 같이 세 가지 이다.  \n",
    "\n",
    "1. X가 3으로 나누어 떨어지면, 3으로 나눈다.  \n",
    "2. X가 2로 나누어 떨어지면, 2로 나눈다.  \n",
    "3. 1을 뺀다.  \n",
    "\n",
    "정수 N이 주어졌을 때, 위와 같은 연산 세 개를 적절히 사용해서 1을 만들려고 한다.  \n",
    "연산을 사용하는 횟수의 최솟값을 출력하시오.  \n",
    "\n",
    "[입력]  \n",
    "첫째 줄에 1보다 크거나 같고, ${10^6}$보다 작거나 같은 정수 N이 주어진다.  \n",
    "\n",
    "[출력]  \n",
    "첫째 줄에 연산을 하는 횟수의 최솟값을 출력한다.  \n",
    "\n",
    "*출처: Baekjoon, https://www.acmicpc.net/*"
   ]
  },
  {
   "cell_type": "markdown",
   "metadata": {},
   "source": [
    "### >> 풀이\n"
   ]
  },
  {
   "cell_type": "code",
   "execution_count": 6,
   "metadata": {},
   "outputs": [
    {
     "name": "stdout",
     "output_type": "stream",
     "text": [
      "10\n",
      "5.0\n",
      "4.0\n",
      "2.0\n",
      "1.0\n",
      "4\n"
     ]
    }
   ],
   "source": [
    "n = int(input())\n",
    "\n",
    "count = 0\n",
    "while(n != 1):\n",
    "    count += 1\n",
    "    if n % 3 == 0:\n",
    "        n /= 3\n",
    "    elif n % 2 == 0:\n",
    "        n /= 2\n",
    "    else:\n",
    "        n -= 1\n",
    "    print(n)\n",
    "print(count)\n",
    "\n",
    "\n",
    "# 10 3"
   ]
  },
  {
   "cell_type": "code",
   "execution_count": null,
   "metadata": {},
   "outputs": [],
   "source": []
  },
  {
   "cell_type": "code",
   "execution_count": null,
   "metadata": {},
   "outputs": [],
   "source": []
  },
  {
   "cell_type": "code",
   "execution_count": null,
   "metadata": {},
   "outputs": [],
   "source": []
  }
 ],
 "metadata": {
  "kernelspec": {
   "display_name": "Python 3",
   "language": "python",
   "name": "python3"
  },
  "language_info": {
   "codemirror_mode": {
    "name": "ipython",
    "version": 3
   },
   "file_extension": ".py",
   "mimetype": "text/x-python",
   "name": "python",
   "nbconvert_exporter": "python",
   "pygments_lexer": "ipython3",
   "version": "3.7.1"
  }
 },
 "nbformat": 4,
 "nbformat_minor": 2
}
