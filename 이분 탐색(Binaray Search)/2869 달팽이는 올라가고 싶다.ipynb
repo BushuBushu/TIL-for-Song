{
 "cells": [
  {
   "cell_type": "markdown",
   "metadata": {},
   "source": [
    "### >> 문제: Baekjoon 2869 [달팽이는 올라가고 싶다](https://www.acmicpc.net/problem/2869)\n",
    "\n",
    "땅 위에 달팽이가 있다. 이 달팽이는 높이가 V미터인 나무 막대를 올라갈 것이다.  \n",
    "\n",
    "달팽이는 낮에 A미터 올라갈 수 있다. 하지만, 밤에 잠을 자는 동안 B미터 미끄러진다.  \n",
    "또, 정상에 올라간 후에는 미끄러지지 않는다.  \n",
    "\n",
    "달팽이가 나무 막대를 모두 올라가려면, 며칠이 걸리는지 구하는 프로그램을 작성하시오.  \n",
    "\n",
    "[입력]  \n",
    "첫째 줄에 세 정수 A, B, V가 공백으로 구분되어서 주어진다. (1 ≤ B < A ≤ V ≤ 1,000,000,000)  \n",
    "\n",
    "[출력]  \n",
    "첫째 줄에 달팽이가 나무 막대를 모두 올라가는데 며칠이 걸리는지 출력한다.  \n",
    " \n",
    "*출처: Baekjoon, https://www.acmicpc.net/*"
   ]
  },
  {
   "cell_type": "markdown",
   "metadata": {},
   "source": [
    "### >> 오답노트(시간초과)"
   ]
  },
  {
   "cell_type": "code",
   "execution_count": 12,
   "metadata": {},
   "outputs": [
    {
     "name": "stdout",
     "output_type": "stream",
     "text": [
      "4\n"
     ]
    }
   ],
   "source": [
    "input_str = '2 1 5' # 입력: 2 1 5, 출력: 4\n",
    "# input_str = input()\n",
    "A, B, V = list(map(int, input_str.split()))\n",
    "\n",
    "day, distance = 0, 0\n",
    "while True:\n",
    "    day += 1\n",
    "    distance += A\n",
    "    if distance >= V:\n",
    "        break\n",
    "    distance -= B\n",
    "\n",
    "print(day)"
   ]
  },
  {
   "cell_type": "markdown",
   "metadata": {},
   "source": [
    "### >> 풀이"
   ]
  },
  {
   "cell_type": "code",
   "execution_count": 13,
   "metadata": {},
   "outputs": [
    {
     "name": "stdout",
     "output_type": "stream",
     "text": [
      "2 1 5\n",
      "4\n"
     ]
    }
   ],
   "source": [
    "A, B, V = map(int, input().split()) # 입력: 2 1 5, 출력: 4\n",
    "\n",
    "# 정상에서는 미끄러지지 않으므로\n",
    "# 나무 막대에서 낮에 올라갈 수 있는 길이를 뺀 후\n",
    "# 하룻 동안 올라갈 수 있는 길이(낮-밤)를 나눈 다음에 \n",
    "# 다시 하루를 더해준다(+1)\n",
    "day = (V - A) // (A - B) + 1\n",
    "# 하룻 동안 올라갈 수 있는 길이가 나누어 떨어지지 않을 경우 하루를 더해줌(+1)\n",
    "if (V - A) % (A - B) != 0:\n",
    "    day += 1\n",
    "\n",
    "print(day)"
   ]
  },
  {
   "cell_type": "markdown",
   "metadata": {},
   "source": [
    "### >> 다른 풀이(이분탐색)"
   ]
  },
  {
   "cell_type": "code",
   "execution_count": 16,
   "metadata": {},
   "outputs": [
    {
     "name": "stdout",
     "output_type": "stream",
     "text": [
      "4\n"
     ]
    }
   ],
   "source": [
    "A, B, V = 2, 1, 5 # 출력: 4\n",
    "# A, B, V = 5, 3, 10 # 출력: 4\n",
    "# A, B, V = map(int, input().split())\n",
    "\n",
    "start, end, day = 0, V, 0\n",
    "\n",
    "while(start <= end) :\n",
    "    mid = (start + end) // 2\n",
    "    distance = (A - B) * (mid - 1) + A\n",
    "    if(distance >= V) :\n",
    "        day = mid\n",
    "        end = mid - 1\n",
    "    else :\n",
    "        start = mid + 1\n",
    "\n",
    "print(day)"
   ]
  },
  {
   "cell_type": "code",
   "execution_count": null,
   "metadata": {},
   "outputs": [],
   "source": []
  }
 ],
 "metadata": {
  "kernelspec": {
   "display_name": "Python 3",
   "language": "python",
   "name": "python3"
  },
  "language_info": {
   "codemirror_mode": {
    "name": "ipython",
    "version": 3
   },
   "file_extension": ".py",
   "mimetype": "text/x-python",
   "name": "python",
   "nbconvert_exporter": "python",
   "pygments_lexer": "ipython3",
   "version": "3.7.1"
  }
 },
 "nbformat": 4,
 "nbformat_minor": 2
}
